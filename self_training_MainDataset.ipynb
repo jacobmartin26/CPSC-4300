{
 "cells": [
  {
   "cell_type": "code",
   "execution_count": 21,
   "metadata": {
    "id": "abvojWroTmdo"
   },
   "outputs": [],
   "source": [
    "import numpy as np\n",
    "import pandas as pd\n",
    "import matplotlib.pyplot as plt\n",
    "# we are using the logisticRegression for doing the classification\n",
    "from sklearn.linear_model import LogisticRegression\n",
    "#we are using the F1 score, confusion matrix for model evaluation\n",
    "from sklearn.metrics import f1_score,accuracy_score, normalized_mutual_info_score\n",
    "\n"
   ]
  },
  {
   "cell_type": "code",
   "execution_count": 22,
   "metadata": {
    "colab": {
     "base_uri": "https://localhost:8080/"
    },
    "id": "iyNkFVz5U-oD",
    "outputId": "80667f40-4d93-4823-840f-6867b7dd1f12"
   },
   "outputs": [
    {
     "name": "stdout",
     "output_type": "stream",
     "text": [
      "Requirement already satisfied: scikit-learn in ./anaconda3/lib/python3.11/site-packages (1.3.2)\n",
      "Requirement already satisfied: numpy<2.0,>=1.17.3 in ./anaconda3/lib/python3.11/site-packages (from scikit-learn) (1.24.3)\n",
      "Requirement already satisfied: scipy>=1.5.0 in ./anaconda3/lib/python3.11/site-packages (from scikit-learn) (1.10.1)\n",
      "Requirement already satisfied: joblib>=1.1.1 in ./anaconda3/lib/python3.11/site-packages (from scikit-learn) (1.2.0)\n",
      "Requirement already satisfied: threadpoolctl>=2.0.0 in ./anaconda3/lib/python3.11/site-packages (from scikit-learn) (2.2.0)\n",
      "Note: you may need to restart the kernel to use updated packages.\n"
     ]
    }
   ],
   "source": [
    "pip install --upgrade scikit-learn"
   ]
  },
  {
   "cell_type": "code",
   "execution_count": 23,
   "metadata": {
    "id": "O2g4vEGhVIV2"
   },
   "outputs": [],
   "source": [
    "from sklearn.metrics import confusion_matrix,ConfusionMatrixDisplay"
   ]
  },
  {
   "cell_type": "code",
   "execution_count": 24,
   "metadata": {},
   "outputs": [],
   "source": [
    "df = pd.read_csv('cleaned-dataset.csv')"
   ]
  },
  {
   "cell_type": "code",
   "execution_count": 25,
   "metadata": {
    "colab": {
     "base_uri": "https://localhost:8080/"
    },
    "id": "2ow0-92shDsP",
    "outputId": "52aa3487-4b63-4041-f848-d37a2d5eb2f9"
   },
   "outputs": [
    {
     "name": "stdout",
     "output_type": "stream",
     "text": [
      "<class 'pandas.core.frame.DataFrame'>\n",
      "RangeIndex: 3630 entries, 0 to 3629\n",
      "Data columns (total 37 columns):\n",
      " #   Column                                          Non-Null Count  Dtype  \n",
      "---  ------                                          --------------  -----  \n",
      " 0   Marital status                                  3630 non-null   int64  \n",
      " 1   Application mode                                3630 non-null   int64  \n",
      " 2   Application order                               3630 non-null   int64  \n",
      " 3   Course                                          3630 non-null   int64  \n",
      " 4   Daytime/evening attendance\t                     3630 non-null   int64  \n",
      " 5   Previous qualification                          3630 non-null   int64  \n",
      " 6   Previous qualification (grade)                  3630 non-null   float64\n",
      " 7   Nacionality                                     3630 non-null   int64  \n",
      " 8   Mother's qualification                          3630 non-null   int64  \n",
      " 9   Father's qualification                          3630 non-null   int64  \n",
      " 10  Mother's occupation                             3630 non-null   int64  \n",
      " 11  Father's occupation                             3630 non-null   int64  \n",
      " 12  Admission grade                                 3630 non-null   float64\n",
      " 13  Displaced                                       3630 non-null   int64  \n",
      " 14  Educational special needs                       3630 non-null   int64  \n",
      " 15  Debtor                                          3630 non-null   int64  \n",
      " 16  Tuition fees up to date                         3630 non-null   int64  \n",
      " 17  Gender                                          3630 non-null   int64  \n",
      " 18  Scholarship holder                              3630 non-null   int64  \n",
      " 19  Age at enrollment                               3630 non-null   int64  \n",
      " 20  International                                   3630 non-null   int64  \n",
      " 21  Curricular units 1st sem (credited)             3630 non-null   int64  \n",
      " 22  Curricular units 1st sem (enrolled)             3630 non-null   int64  \n",
      " 23  Curricular units 1st sem (evaluations)          3630 non-null   int64  \n",
      " 24  Curricular units 1st sem (approved)             3630 non-null   int64  \n",
      " 25  Curricular units 1st sem (grade)                3630 non-null   float64\n",
      " 26  Curricular units 1st sem (without evaluations)  3630 non-null   int64  \n",
      " 27  Curricular units 2nd sem (credited)             3630 non-null   int64  \n",
      " 28  Curricular units 2nd sem (enrolled)             3630 non-null   int64  \n",
      " 29  Curricular units 2nd sem (evaluations)          3630 non-null   int64  \n",
      " 30  Curricular units 2nd sem (approved)             3630 non-null   int64  \n",
      " 31  Curricular units 2nd sem (grade)                3630 non-null   float64\n",
      " 32  Curricular units 2nd sem (without evaluations)  3630 non-null   int64  \n",
      " 33  Unemployment rate                               3630 non-null   float64\n",
      " 34  Inflation rate                                  3630 non-null   float64\n",
      " 35  GDP                                             3630 non-null   float64\n",
      " 36  Target                                          3630 non-null   object \n",
      "dtypes: float64(7), int64(29), object(1)\n",
      "memory usage: 1.0+ MB\n"
     ]
    }
   ],
   "source": [
    "df.info()"
   ]
  },
  {
   "cell_type": "code",
   "execution_count": 26,
   "metadata": {
    "colab": {
     "base_uri": "https://localhost:8080/"
    },
    "id": "HLWiadGAsYv7",
    "outputId": "234b5748-9559-44eb-eb4f-98147ffee943",
    "scrolled": true
   },
   "outputs": [
    {
     "data": {
      "text/plain": [
       "0        Dropout\n",
       "1       Graduate\n",
       "2        Dropout\n",
       "3       Graduate\n",
       "4       Graduate\n",
       "          ...   \n",
       "3625    Graduate\n",
       "3626     Dropout\n",
       "3627     Dropout\n",
       "3628    Graduate\n",
       "3629    Graduate\n",
       "Name: Target, Length: 3630, dtype: object"
      ]
     },
     "execution_count": 26,
     "metadata": {},
     "output_type": "execute_result"
    }
   ],
   "source": [
    "df[\"Target\"]"
   ]
  },
  {
   "cell_type": "code",
   "execution_count": 27,
   "metadata": {
    "colab": {
     "base_uri": "https://localhost:8080/"
    },
    "id": "QkdL89lLEwTr",
    "outputId": "59893521-36ae-4e2f-a1d7-1efbd5de8e9a"
   },
   "outputs": [
    {
     "data": {
      "text/plain": [
       "0       0\n",
       "1       1\n",
       "2       0\n",
       "3       1\n",
       "4       1\n",
       "       ..\n",
       "3625    1\n",
       "3626    0\n",
       "3627    0\n",
       "3628    1\n",
       "3629    1\n",
       "Name: Target, Length: 3630, dtype: int64"
      ]
     },
     "execution_count": 27,
     "metadata": {},
     "output_type": "execute_result"
    }
   ],
   "source": [
    "df['Target'] = df['Target'].replace({'Dropout': 0, 'Graduate': 1})\n",
    "df[\"Target\"]"
   ]
  },
  {
   "cell_type": "markdown",
   "metadata": {
    "id": "m4EbSdoeFhA2"
   },
   "source": [
    " Now that we are done reading the data and preproceesing it we are now going to implement the the logistic regression model.\n",
    " **PART 1/2:Training the model on labelled data.**"
   ]
  },
  {
   "cell_type": "code",
   "execution_count": 28,
   "metadata": {
    "id": "CBMjvsv4h3hn"
   },
   "outputs": [],
   "source": [
    "\n",
    "# Generate indices for splits.\n",
    "#Here, we are using 1% for training; 25% for testing and creating a 74% unlabelled data\n",
    "\n",
    "test_ind = round(len(df)*0.25)\n",
    "# we are adding it to test_ind to get the starting value of the training set\n",
    "train_ind = test_ind + round(len(df)*0.01)\n",
    "unlabeled_ind = train_ind + round(len(df)*0.74)\n",
    "\n",
    "\n",
    "# Partitioning the data frame\n",
    "\n",
    "test = df.iloc[:test_ind]\n",
    "train = df.iloc[test_ind:train_ind]\n",
    "unlabeled = df.iloc[train_ind:unlabeled_ind]\n",
    "\n",
    "\n",
    "# Assigning data to train, test, and unlabeled sets\n",
    "\n",
    "X_train = train.drop('Target', axis=1)\n",
    "Y_train = train.Target\n",
    "\n",
    "#X_Train(36,36), Y_Train(36) are of the same size\n",
    "\n",
    "X_unlabeled = unlabeled.drop('Target', axis=1)\n",
    "#X_unlabeled.shape=(2686,36)\n",
    "X_test = test.drop('Target', axis=1)\n",
    "#X_test.shape=(908,36)\n",
    "\n",
    "Y_test = test.Target\n",
    "#Y_test.shape=(908,)\n"
   ]
  },
  {
   "cell_type": "code",
   "execution_count": 29,
   "metadata": {
    "colab": {
     "base_uri": "https://localhost:8080/"
    },
    "id": "u9o-qgWF623I",
    "outputId": "a0e9afed-6d29-4254-f5b7-4ba5f1b78220"
   },
   "outputs": [
    {
     "name": "stdout",
     "output_type": "stream",
     "text": [
      "X_train dimensions: (36, 36)\n",
      "y_train dimensions: (36,)\n",
      "\n",
      "X_test dimensions: (908, 36)\n",
      "y_test dimensions: (908,)\n",
      "\n",
      "X_unlabeled dimensions: (2686, 36)\n"
     ]
    }
   ],
   "source": [
    "# Check dimensions of data after splitting\n",
    "\n",
    "print(f\"X_train dimensions: {X_train.shape}\")\n",
    "print(f\"y_train dimensions: {Y_train.shape}\\n\")\n",
    "\n",
    "print(f\"X_test dimensions: {X_test.shape}\")\n",
    "print(f\"y_test dimensions: {Y_test.shape}\\n\")\n",
    "\n",
    "print(f\"X_unlabeled dimensions: {X_unlabeled.shape}\")"
   ]
  },
  {
   "cell_type": "code",
   "execution_count": 30,
   "metadata": {
    "colab": {
     "base_uri": "https://localhost:8080/",
     "height": 535
    },
    "id": "RGnLNPCmkzq_",
    "outputId": "02d63f4b-f8fe-4944-c354-b413b609902f"
   },
   "outputs": [
    {
     "data": {
      "image/png": "[encoded data removed]",
      "text/plain": [
       "<Figure size 640x480 with 1 Axes>"
      ]
     },
     "metadata": {},
     "output_type": "display_data"
    }
   ],
   "source": [
    "# displaying the ratio of the labels in the training data\n",
    "Y_train.value_counts().plot(kind='bar')\n",
    "plt.xticks([0,1], ['Graduate Labels ', 'Dropout Labels'])\n",
    "plt.ylabel('Count');"
   ]
  },
  {
   "cell_type": "code",
   "execution_count": 31,
   "metadata": {
    "id": "pem5l8Tj0X3-"
   },
   "outputs": [
    {
     "name": "stderr",
     "output_type": "stream",
     "text": [
      "/Users/rithikareddy/anaconda3/lib/python3.11/site-packages/sklearn/linear_model/_logistic.py:460: ConvergenceWarning: lbfgs failed to converge (status=1):\n",
      "STOP: TOTAL NO. of ITERATIONS REACHED LIMIT.\n",
      "\n",
      "Increase the number of iterations (max_iter) or scale the data as shown in:\n",
      "    https://scikit-learn.org/stable/modules/preprocessing.html\n",
      "Please also refer to the documentation for alternative solver options:\n",
      "    https://scikit-learn.org/stable/modules/linear_model.html#logistic-regression\n",
      "  n_iter_i = _check_optimize_result(\n"
     ]
    }
   ],
   "source": [
    "#We are using the the logistic Regression to train over the labelled dataset while limiting the maximum number of iterations to 1000\n",
    "clf = LogisticRegression()\n",
    "# fitting the model\n",
    "clf.fit(X_train, Y_train)\n",
    "#Now that the model is trained on the LABELLED TRAINING DATA, we want to predict the the values\n",
    "# the representation for such predicted values is \"y_hat...\"\n",
    "# the y_hat_test and y_hat_train are the values we got from the model\n",
    "Y_hat_test = clf.predict(X_test)\n",
    "#y_hat_train = clf.predict(X_train)\n",
    "\n"
   ]
  },
  {
   "cell_type": "markdown",
   "metadata": {
    "id": "UFiSjOf9FJW1"
   },
   "source": [
    "We are now done traing the logistic Regression. We want to implement the trained model om the unlabelled data.\n",
    "**PART 2/2:Using the unlabelled data on the trained Model**"
   ]
  },
  {
   "cell_type": "code",
   "execution_count": 33,
   "metadata": {
    "colab": {
     "base_uri": "https://localhost:8080/"
    },
    "id": "SqLEbhso1ffP",
    "outputId": "2a03f5cf-11d3-4b2b-c310-146ec367a6ad"
   },
   "outputs": [
    {
     "data": {
      "text/plain": [
       "array([[8.50261750e-01, 1.49738250e-01],\n",
       "       [1.87492295e-05, 9.99981251e-01],\n",
       "       [9.99993905e-01, 6.09508779e-06],\n",
       "       ...,\n",
       "       [1.07877962e-04, 9.99892122e-01],\n",
       "       [0.00000000e+00, 1.00000000e+00],\n",
       "       [3.76478292e-04, 9.99623522e-01]])"
      ]
     },
     "execution_count": 33,
     "metadata": {},
     "output_type": "execute_result"
    }
   ],
   "source": [
    "# we are trying to predict the probabilities of both the labels occuring. Since it is a probability, each row adds up to 1\n",
    "#X_test.shape(908,36)-Reamins consistent\n",
    "clf.predict_proba(X_test)"
   ]
  },
  {
   "cell_type": "code",
   "execution_count": 34,
   "metadata": {
    "colab": {
     "base_uri": "https://localhost:8080/"
    },
    "id": "9xz9PSm-ojSY",
    "outputId": "8350208d-3fee-4d9e-dd57-9b8a21ad2785"
   },
   "outputs": [
    {
     "data": {
      "text/plain": [
       "(36,)"
      ]
     },
     "execution_count": 34,
     "metadata": {},
     "output_type": "execute_result"
    }
   ],
   "source": [
    "Y_train.shape"
   ]
  },
  {
   "cell_type": "code",
   "execution_count": 35,
   "metadata": {
    "colab": {
     "base_uri": "https://localhost:8080/",
     "height": 649
    },
    "id": "GfR8ttMe2b-s",
    "outputId": "5436d1b0-6312-4fef-bc64-69673a4ef3a2"
   },
   "outputs": [
    {
     "name": "stdout",
     "output_type": "stream",
     "text": [
      "X_train shape: (36, 36)\n",
      "Y_train shape: (36,)\n",
      "X_train shape: (36, 36)\n",
      "Y_train shape: (36,)\n",
      "Now predicting labels for unlabeled data...\n",
      "1721 high-probability predictions added to training data.\n",
      "965 unlabeled instances remaining.\n",
      "\n",
      "X_train shape: (1757, 36)\n",
      "Y_train shape: (1757,)\n",
      "Now predicting labels for unlabeled data...\n",
      "281 high-probability predictions added to training data.\n",
      "684 unlabeled instances remaining.\n",
      "\n",
      "X_train shape: (2038, 36)\n",
      "Y_train shape: (2038,)\n",
      "Now predicting labels for unlabeled data...\n",
      "116 high-probability predictions added to training data.\n",
      "568 unlabeled instances remaining.\n",
      "\n",
      "X_train shape: (2154, 36)\n",
      "Y_train shape: (2154,)\n",
      "Now predicting labels for unlabeled data...\n",
      "68 high-probability predictions added to training data.\n",
      "500 unlabeled instances remaining.\n",
      "\n",
      "X_train shape: (2222, 36)\n",
      "Y_train shape: (2222,)\n",
      "Now predicting labels for unlabeled data...\n",
      "44 high-probability predictions added to training data.\n",
      "456 unlabeled instances remaining.\n",
      "\n",
      "X_train shape: (2266, 36)\n",
      "Y_train shape: (2266,)\n",
      "Now predicting labels for unlabeled data...\n",
      "26 high-probability predictions added to training data.\n",
      "430 unlabeled instances remaining.\n",
      "\n",
      "X_train shape: (2292, 36)\n",
      "Y_train shape: (2292,)\n",
      "Now predicting labels for unlabeled data...\n",
      "20 high-probability predictions added to training data.\n",
      "410 unlabeled instances remaining.\n",
      "\n",
      "X_train shape: (2312, 36)\n",
      "Y_train shape: (2312,)\n",
      "Now predicting labels for unlabeled data...\n",
      "16 high-probability predictions added to training data.\n",
      "394 unlabeled instances remaining.\n",
      "\n",
      "X_train shape: (2328, 36)\n",
      "Y_train shape: (2328,)\n",
      "Now predicting labels for unlabeled data...\n",
      "6 high-probability predictions added to training data.\n",
      "388 unlabeled instances remaining.\n",
      "\n",
      "X_train shape: (2334, 36)\n",
      "Y_train shape: (2334,)\n",
      "Now predicting labels for unlabeled data...\n",
      "7 high-probability predictions added to training data.\n",
      "381 unlabeled instances remaining.\n",
      "\n",
      "X_train shape: (2341, 36)\n",
      "Y_train shape: (2341,)\n",
      "Now predicting labels for unlabeled data...\n",
      "5 high-probability predictions added to training data.\n",
      "376 unlabeled instances remaining.\n",
      "\n",
      "X_train shape: (2346, 36)\n",
      "Y_train shape: (2346,)\n",
      "Now predicting labels for unlabeled data...\n",
      "5 high-probability predictions added to training data.\n",
      "371 unlabeled instances remaining.\n",
      "\n",
      "X_train shape: (2351, 36)\n",
      "Y_train shape: (2351,)\n",
      "Now predicting labels for unlabeled data...\n",
      "1 high-probability predictions added to training data.\n",
      "370 unlabeled instances remaining.\n",
      "\n",
      "X_train shape: (2352, 36)\n",
      "Y_train shape: (2352,)\n",
      "Now predicting labels for unlabeled data...\n",
      "3 high-probability predictions added to training data.\n",
      "367 unlabeled instances remaining.\n",
      "\n",
      "X_train shape: (2355, 36)\n",
      "Y_train shape: (2355,)\n",
      "Now predicting labels for unlabeled data...\n",
      "0 high-probability predictions added to training data.\n",
      "367 unlabeled instances remaining.\n",
      "\n"
     ]
    }
   ],
   "source": [
    "# Initiate iteration counter.this variable keeps track of the iterations\n",
    "iterations = 0\n",
    "\n",
    "# Containers to hold f1_scores,accuracy scores, nmis and # of pseudo-labels\n",
    "test_accs = []\n",
    "test_f1s = []\n",
    "test_nmis=[]\n",
    "pseudo_labels = []\n",
    "\n",
    "# Assign value to initiate while loop to keep the iterations going.\n",
    "high_prob = [1]\n",
    "# Check shapes of X_train and Y_train\n",
    "print(\"X_train shape:\", X_train.shape)\n",
    "print(\"Y_train shape:\", Y_train.shape)\n",
    "\n",
    "# Verify data alignment\n",
    "#assert X_train.shape[0] == Y_train.shape[0], \"Number of samples in X_train and Y_train must match.\"\n",
    "\n",
    "# Loop will run until there are no more high-probability pseudo-labels\n",
    "while len(high_prob) > 0:\n",
    "\n",
    "    # Fit classifier and make train/test predictions\n",
    "    print(\"X_train shape:\", X_train.shape)\n",
    "    print(\"Y_train shape:\", Y_train.shape)\n",
    "    clf = LogisticRegression(max_iter=2000)\n",
    "    clf.fit(X_train, Y_train)\n",
    "    y_hat_test = clf.predict(X_test)\n",
    "\n",
    "    # Calculate and print iteration # and f1 scores,accuracy score and NMI\n",
    "\n",
    "    #f1 score\n",
    "    Test_f1 = f1_score(Y_test, Y_hat_test)\n",
    "    #test\n",
    "\n",
    "    #Accuracy Score\n",
    "    Accuracy_test = accuracy_score(Y_test, Y_hat_test)\n",
    "\n",
    "\n",
    "    #NMI\n",
    "    Nmi_score = normalized_mutual_info_score(Y_test, Y_hat_test)\n",
    "\n",
    "\n",
    "    #print(f\"Iteration  number :{iterations}\")\n",
    "    #print(f\"The f1 Score: {test_f1} for iteration :{iterations}\")\n",
    "    #print(f\"Test Accuracy: {accuracy_test:.2f} for iteration :{iterations}\")\n",
    "    #print(f\"Normalized Mutual Information (NMI): {nmi_score:.4f}for iteration :{iterations}\")\n",
    "\n",
    "    test_f1s.append(Test_f1)\n",
    "    test_accs.append(Accuracy_test)\n",
    "    test_nmis.append(Nmi_score)\n",
    "\n",
    "    # Generate predictions and probabilities for unlabeled data\n",
    "    print(f\"Now predicting labels for unlabeled data...\")\n",
    "\n",
    "    #we are predicting the probabilities  in X_unlabeled\n",
    "    pred_probs = clf.predict_proba(X_unlabeled)\n",
    "\n",
    "    preds = clf.predict(X_unlabeled)\n",
    "    prob_0 = pred_probs[:,0]\n",
    "    prob_1 = pred_probs[:,1]\n",
    "\n",
    "    # Store predictions and probabilities in dataframe\n",
    "    df_pred_prob = pd.DataFrame([])\n",
    "    df_pred_prob['preds'] = preds\n",
    "    df_pred_prob['prob_0'] = prob_0\n",
    "    df_pred_prob['prob_1'] = prob_1\n",
    "    df_pred_prob.index = X_unlabeled.index\n",
    "\n",
    "    # Separate predictions with > 99% probability\n",
    "    high_prob = pd.concat([df_pred_prob.loc[df_pred_prob['prob_0'] > 0.99],\n",
    "                            df_pred_prob.loc[df_pred_prob['prob_1'] > 0.99]],\n",
    "                          axis=0)\n",
    "\n",
    "    print(f\"{len(high_prob)} high-probability predictions added to training data.\")\n",
    "\n",
    "    pseudo_labels.append(len(high_prob))\n",
    "\n",
    "    # Add pseudo-labeled data to training data\n",
    "    X_train = pd.concat([X_train, X_unlabeled.loc[high_prob.index]], axis=0)\n",
    "    Y_train = pd.concat([Y_train, high_prob.preds])\n",
    "\n",
    "    # Drop pseudo-labeled instances from unlabeled data\n",
    "    X_unlabeled = X_unlabeled.drop(index=high_prob.index)\n",
    "    print(f\"{len(X_unlabeled)} unlabeled instances remaining.\\n\")\n",
    "\n",
    "    # Update iteration counter\n",
    "    iterations += 1\n"
   ]
  },
  {
   "cell_type": "code",
   "execution_count": 36,
   "metadata": {
    "id": "JM7ASjx6FDwf"
   },
   "outputs": [
    {
     "name": "stdout",
     "output_type": "stream",
     "text": [
      "Self Training Model Accuracy: 0.7687224669603524\n",
      "F1- score: 0.8311897106109325\n",
      "Accuracy:0.7687224669603524\n",
      "NMI:0.17486941161017483\n"
     ]
    }
   ],
   "source": [
    "print(f\"Self Training Model Accuracy: {Accuracy_test}\")\n",
    "test_f1 = f1_score(Y_test, Y_hat_test)\n",
    "print(f\"F1- score: {Test_f1}\")\n",
    "    #test\n",
    "\n",
    "    #Accuracy Score\n",
    "accuracy_test = accuracy_score(Y_test, Y_hat_test)\n",
    "print(f\"Accuracy:{Accuracy_test}\")\n",
    "\n",
    "\n",
    "    #NMI\n",
    "nmi_score = normalized_mutual_info_score(Y_test, Y_hat_test)\n",
    "print(f\"NMI:{Nmi_score}\")"
   ]
  },
  {
   "cell_type": "code",
   "execution_count": null,
   "metadata": {
    "id": "3UW5B7gL2n_H"
   },
   "outputs": [],
   "source": []
  },
  {
   "cell_type": "code",
   "execution_count": null,
   "metadata": {},
   "outputs": [],
   "source": []
  }
 ],
 "metadata": {
  "colab": {
   "provenance": []
  },
  "kernelspec": {
   "display_name": "Python 3 (ipykernel)",
   "language": "python",
   "name": "python3"
  },
  "language_info": {
   "codemirror_mode": {
    "name": "ipython",
    "version": 3
   },
   "file_extension": ".py",
   "mimetype": "text/x-python",
   "name": "python",
   "nbconvert_exporter": "python",
   "pygments_lexer": "ipython3",
   "version": "3.11.4"
  }
 },
 "nbformat": 4,
 "nbformat_minor": 1
}
